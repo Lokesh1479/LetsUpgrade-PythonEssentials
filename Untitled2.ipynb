{
  "nbformat": 4,
  "nbformat_minor": 0,
  "metadata": {
    "colab": {
      "name": "Untitled2.ipynb",
      "provenance": [],
      "authorship_tag": "ABX9TyM27hWkWhZ+S5phVKHZGFim",
      "include_colab_link": true
    },
    "kernelspec": {
      "name": "python3",
      "display_name": "Python 3"
    }
  },
  "cells": [
    {
      "cell_type": "markdown",
      "metadata": {
        "id": "view-in-github",
        "colab_type": "text"
      },
      "source": [
        "<a href=\"https://colab.research.google.com/github/Lokesh1479/LetsUpgrade-PythonEssentials/blob/master/Untitled2.ipynb\" target=\"_parent\"><img src=\"https://colab.research.google.com/assets/colab-badge.svg\" alt=\"Open In Colab\"/></a>"
      ]
    },
    {
      "cell_type": "markdown",
      "metadata": {
        "id": "jz1vGcvf_Z86",
        "colab_type": "text"
      },
      "source": [
        "Day 3 Assignment"
      ]
    },
    {
      "cell_type": "code",
      "metadata": {
        "id": "wd4OQTXR_hhC",
        "colab_type": "code",
        "colab": {
          "base_uri": "https://localhost:8080/",
          "height": 52
        },
        "outputId": "e188a1cb-e1bc-4034-d0eb-9557d8d0500b"
      },
      "source": [
        "#1\n",
        "a=int(input(\"enter altitude:\"))\n",
        "if a<=1000:\n",
        "  print(\"Safe to Land\")\n",
        "elif a>5000:\n",
        "  print(\"Turn Around and Try later\")\n",
        "else:\n",
        "  print(\"Come down to 1000ft\")"
      ],
      "execution_count": 4,
      "outputs": [
        {
          "output_type": "stream",
          "text": [
            "enter altitude:1000\n",
            "Safe to Land\n"
          ],
          "name": "stdout"
        }
      ]
    },
    {
      "cell_type": "code",
      "metadata": {
        "id": "jaLwJ_FtAxzG",
        "colab_type": "code",
        "colab": {
          "base_uri": "https://localhost:8080/",
          "height": 34
        },
        "outputId": "67a3ada5-d3ff-45da-a51e-8626580b2157"
      },
      "source": [
        "#2\n",
        "for num in range (1, 201):\n",
        "    c= 0\n",
        "    for i in range(2, (num//2 + 1)):\n",
        "        if(num % i == 0):\n",
        "            c = c + 1\n",
        "            break\n",
        "\n",
        "    if (c == 0 and num != 1):\n",
        "        print(num,end = ',')\n"
      ],
      "execution_count": 7,
      "outputs": [
        {
          "output_type": "stream",
          "text": [
            "2,3,5,7,11,13,17,19,23,29,31,37,41,43,47,53,59,61,67,71,73,79,83,89,97,101,103,107,109,113,127,131,137,139,149,151,157,163,167,173,179,181,191,193,197,199,"
          ],
          "name": "stdout"
        }
      ]
    },
    {
      "cell_type": "code",
      "metadata": {
        "id": "UilAICjkA_8O",
        "colab_type": "code",
        "colab": {}
      },
      "source": [
        ""
      ],
      "execution_count": null,
      "outputs": []
    }
  ]
}